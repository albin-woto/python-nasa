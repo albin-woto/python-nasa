{
 "metadata": {
  "language_info": {
   "codemirror_mode": {
    "name": "ipython",
    "version": 3
   },
   "file_extension": ".py",
   "mimetype": "text/x-python",
   "name": "python",
   "nbconvert_exporter": "python",
   "pygments_lexer": "ipython3",
   "version": "3.8.5-final"
  },
  "orig_nbformat": 2,
  "kernelspec": {
   "name": "python_defaultSpec_1599411744182",
   "display_name": "Python 3.8.5 64-bit ('.venv': venv)"
  }
 },
 "nbformat": 4,
 "nbformat_minor": 2,
 "cells": [
  {
   "cell_type": "code",
   "execution_count": 3,
   "metadata": {
    "tags": []
   },
   "outputs": [
    {
     "output_type": "stream",
     "name": "stdout",
     "text": "Artemis Rover Rock Scanner Starting\n"
    }
   ],
   "source": [
    "print(\"Artemis Rover Rock Scanner Starting\")"
   ]
  },
  {
   "cell_type": "code",
   "execution_count": 4,
   "metadata": {},
   "outputs": [],
   "source": [
    "# main types of rocks\n",
    "basalt = 0\n",
    "breccia = 0\n",
    "highland = 0\n",
    "regolith = 0\n",
    "rockList = []"
   ]
  },
  {
   "cell_type": "code",
   "execution_count": 8,
   "metadata": {
    "tags": []
   },
   "outputs": [
    {
     "output_type": "stream",
     "name": "stdout",
     "text": "Reading Rocks\n\nbasalt\n\nbreccia\n\nhighland\n\nregolith\n\nhighland\n\nbreccia\n\nhighland\n\nregolith\n\nregolith\n\nbasalt\n\nhighland\n\nbasalt\n\nbreccia\n\nbreccia\n\nregolith\n\nbreccia\n\nhighland\n\nhighland\n\nbreccia\n\nbasalt\n"
    }
   ],
   "source": [
    "# Reading the rocks file\n",
    "strPath = './rocks.txt'\n",
    "fileObject = open(strPath)\n",
    "line = fileObject.readline()\n",
    "# First line\n",
    "print(line)\n",
    "\n",
    "\n",
    "rockList = fileObject.readlines()\n",
    "for rock in rockList:\n",
    "    print(rock)\n",
    "\n",
    "fileObject.close()"
   ]
  },
  {
   "cell_type": "code",
   "execution_count": 11,
   "metadata": {},
   "outputs": [],
   "source": [
    "# Function to count types of moon rocks found\n",
    "\n",
    "def countMoonRocks(rockToId):\n",
    "    global basalt\n",
    "    global breccia\n",
    "    global highland\n",
    "    global regolith\n",
    "\n",
    "    rockToId = rockToId.lower()\n",
    "\n",
    "    if('basalt' in rockToId):\n",
    "        print('Found a basalt\\n')\n",
    "        basalt += 1\n",
    "    elif('breccia' in rockToId):\n",
    "        print('Found a breccia\\n')\n",
    "        breccia += 1\n",
    "    elif('highland' in rockToId):\n",
    "        print('Found a highland\\n')\n",
    "        highland += 1\n",
    "    elif('regolith' in rockToId):\n",
    "        print('Found a regolith\\n')\n",
    "        regolith += 1\n",
    "\n",
    "    return\n",
    "        \n",
    "    "
   ]
  },
  {
   "cell_type": "code",
   "execution_count": null,
   "metadata": {},
   "outputs": [],
   "source": []
  },
  {
   "cell_type": "code",
   "execution_count": 13,
   "metadata": {
    "tags": []
   },
   "outputs": [
    {
     "output_type": "stream",
     "name": "stdout",
     "text": "Found a basalt\n\nFound a breccia\n\nFound a highland\n\nFound a regolith\n\nFound a highland\n\nFound a breccia\n\nFound a highland\n\nFound a regolith\n\nFound a regolith\n\nFound a basalt\n\nFound a highland\n\nFound a basalt\n\nFound a breccia\n\nFound a breccia\n\nFound a regolith\n\nFound a breccia\n\nFound a highland\n\nFound a highland\n\nFound a breccia\n\nFound a basalt\n\n"
    }
   ],
   "source": [
    "# Now I can call the function countMoonRocks\n",
    "for rock in rockList:\n",
    "    countMoonRocks(rock)"
   ]
  },
  {
   "cell_type": "code",
   "execution_count": 21,
   "metadata": {
    "tags": []
   },
   "outputs": [
    {
     "output_type": "stream",
     "name": "stdout",
     "text": "Number of Basalt: 4\nNumber of Breccia: 6\nNumber of Highland: 6\nNumber of Regolith: 4\n\nThe max number of one type of rock found was: 6\n\nThe min number of one type of rock found was: 4\n"
    }
   ],
   "source": [
    "# For better understanding I can call how many rocks are in each type\n",
    "print('Number of Basalt:', basalt)\n",
    "print('Number of Breccia:', breccia)\n",
    "print('Number of Highland:', highland)\n",
    "print('Number of Regolith:', regolith)\n",
    "\n",
    "# Or I can see wich type had the most and \n",
    "print('\\nThe max number of one type of rock found was:', max(basalt, breccia, highland, regolith))\n",
    "print('\\nThe min number of one type of rock found was:', min(basalt, breccia, highland, regolith))"
   ]
  }
 ]
}