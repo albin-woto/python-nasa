{
 "metadata": {
  "language_info": {
   "codemirror_mode": {
    "name": "ipython",
    "version": 3
   },
   "file_extension": ".py",
   "mimetype": "text/x-python",
   "name": "python",
   "nbconvert_exporter": "python",
   "pygments_lexer": "ipython3",
   "version": "3.8.5-final"
  },
  "orig_nbformat": 2,
  "kernelspec": {
   "name": "python_defaultSpec_1599435060239",
   "display_name": "Python 3.8.5 64-bit ('.venv': venv)"
  }
 },
 "nbformat": 4,
 "nbformat_minor": 2,
 "cells": [
  {
   "cell_type": "code",
   "execution_count": 6,
   "metadata": {},
   "outputs": [],
   "source": [
    "# Plot imports\n",
    "import matplotlib.pyplot as plt\n",
    "# numpy for process large numerical matrixes\n",
    "import numpy as np\n",
    "# PyTorch to train and process deep learning and AI models\n",
    "import torch\n",
    "from torch import nn, optim\n",
    "from torch.autograd import Variable\n",
    "import torch.nn.functional as F\n",
    "# Import torchvision (part of Pytorch)\n",
    "# Process images and manipulate them (crop, resize)\n",
    "import torchvision\n",
    "from torchvision import datasets, transforms, models\n",
    "# Python Imaging Library (PIL) to visualize images\n",
    "from PIL import Image\n",
    "\n",
    "# libraries that ensure the plots are shown inline and in high resolution\n",
    "%matplotlib inline\n",
    "%config InLineBackend.figure_format = 'retina'"
   ]
  },
  {
   "cell_type": "code",
   "execution_count": 8,
   "metadata": {
    "tags": []
   },
   "outputs": [
    {
     "output_type": "stream",
     "name": "stdout",
     "text": "['Basalt', 'Highland']\n"
    }
   ],
   "source": [
    "# Folder that contains the image data\n",
    "# Unzip Data.zip \n",
    "data_dir = './data'\n",
    "\n",
    "# Function to read the data; crop and resize the images; finally split it into test and train chunks (20-80)\n",
    "def load_split_train_test(datadir, valid_size = .2):\n",
    "    # Transform the images\n",
    "    train_transforms = transforms.Compose([\n",
    "        transforms.RandomResizedCrop(224),\n",
    "        transforms.Resize(224),\n",
    "        transforms.ToTensor()\n",
    "    ])\n",
    "\n",
    "    test_transforms = transforms.Compose([\n",
    "        transforms.RandomResizedCrop(224),\n",
    "        transforms.Resize(224),\n",
    "        transforms.ToTensor()\n",
    "    ])\n",
    "\n",
    "    train_data = datasets.ImageFolder(datadir, transform=train_transforms)\n",
    "    test_data = datasets.ImageFolder(datadir, transform=test_transforms)\n",
    "\n",
    "    num_train = len(train_data)\n",
    "    indices = list(range(num_train))\n",
    "    split = int(np.floor(valid_size * num_train))\n",
    "    np.random.shuffle(indices)\n",
    "    from torch.utils.data.sampler import SubsetRandomSampler\n",
    "    train_idx, test_idx = indices[split:], indices[:split]\n",
    "    train_sampler = SubsetRandomSampler(train_idx)\n",
    "    test_sampler = SubsetRandomSampler(test_idx)\n",
    "\n",
    "    train_loader = torch.utils.data.DataLoader(train_data, sampler=train_sampler, batch_size = 16)\n",
    "    test_loader = torch.utils.data.DataLoader(test_data, sampler=test_sampler, batch_size = 16)\n",
    "\n",
    "    return train_loader, test_loader\n",
    "\n",
    "# Using 20% of data for testing\n",
    "train_loader, test_loader = load_split_train_test(data_dir, .2)\n",
    "print(train_loader.dataset.classes)"
   ]
  },
  {
   "cell_type": "code",
   "execution_count": null,
   "metadata": {},
   "outputs": [],
   "source": []
  }
 ]
}